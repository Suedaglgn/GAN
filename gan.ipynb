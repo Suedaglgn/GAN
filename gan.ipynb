{
 "cells": [
  {
   "cell_type": "code",
   "execution_count": 1,
   "outputs": [],
   "source": [
    "import torch\n",
    "from torch import nn\n",
    "import math\n",
    "import matplotlib.pyplot as plt"
   ],
   "metadata": {
    "collapsed": false
   }
  },
  {
   "cell_type": "code",
   "execution_count": 3,
   "metadata": {
    "collapsed": true
   },
   "outputs": [],
   "source": [
    "class Generator(nn.Module):\n",
    "    def __init__(self):\n",
    "        super().__init__()\n",
    "        self.model = nn.Sequential(\n",
    "            nn.Linear(2, 16),\n",
    "            nn.ReLU(),\n",
    "            nn.Linear(16, 32),\n",
    "            nn.ReLU(),\n",
    "            nn.Linear(32, 2),\n",
    "        )\n",
    "    def forward(self, x):\n",
    "        output = self.model(x)\n",
    "        return output\n",
    "\n",
    "class Discriminator(nn.Module):\n",
    "    def __init__(self):\n",
    "        super().__init__()\n",
    "        self.model = nn.Sequential(\n",
    "            nn.Linear(2, 256),\n",
    "            nn.ReLU(),\n",
    "            nn.Dropout(0.3),\n",
    "            nn.Linear(256, 128),\n",
    "            nn.ReLU(),\n",
    "            nn.Dropout(0.3),\n",
    "            nn.Linear(128, 64),\n",
    "            nn.ReLU(),\n",
    "            nn.Dropout(0.3),\n",
    "            nn.Linear(64, 1),\n",
    "            nn.Sigmoid(),\n",
    "        )\n",
    "    def forward(self, x):\n",
    "        output = self.model(x)\n",
    "        return output\n"
   ]
  },
  {
   "cell_type": "code",
   "execution_count": 4,
   "outputs": [],
   "source": [
    "train_data_length = 1024\n",
    "train_data = torch.zeros((train_data_length, 2))\n",
    "train_data[:, 0] = 2 * math.pi * torch.rand(train_data_length)\n",
    "train_data[:, 1] = torch.sin(train_data[:, 0])\n",
    "train_labels = torch.zeros(train_data_length)\n",
    "train_set = [(train_data[i], train_labels[i]) for i in range(train_data_length)]\n",
    "batch_size = 32\n",
    "train_loader = torch.utils.data.DataLoader(train_set, batch_size=batch_size, shuffle=True)"
   ],
   "metadata": {
    "collapsed": false
   }
  },
  {
   "cell_type": "code",
   "execution_count": 5,
   "outputs": [
    {
     "data": {
      "text/plain": "[<matplotlib.lines.Line2D at 0x7f78d97f21f0>]"
     },
     "execution_count": 5,
     "metadata": {},
     "output_type": "execute_result"
    },
    {
     "data": {
      "text/plain": "<Figure size 640x480 with 1 Axes>",
      "image/png": "[encoded data removed]"
     },
     "metadata": {},
     "output_type": "display_data"
    }
   ],
   "source": [
    "plt.plot(train_data[:, 0], train_data[:, 1], \".\")"
   ],
   "metadata": {
    "collapsed": false
   }
  },
  {
   "cell_type": "code",
   "execution_count": 6,
   "outputs": [],
   "source": [
    "lr = 0.001\n",
    "num_epochs = 300\n",
    "loss_function = nn.BCELoss()"
   ],
   "metadata": {
    "collapsed": false
   }
  },
  {
   "cell_type": "code",
   "execution_count": 7,
   "outputs": [
    {
     "name": "stdout",
     "output_type": "stream",
     "text": [
      "Epoch: 0 Loss D.: 0.16700372099876404\n",
      "Epoch: 0 Loss G.: 2.1917264461517334\n",
      "Epoch: 10 Loss D.: 0.6152993440628052\n",
      "Epoch: 10 Loss G.: 0.7919284105300903\n",
      "Epoch: 20 Loss D.: 0.657464861869812\n",
      "Epoch: 20 Loss G.: 0.9094124436378479\n",
      "Epoch: 30 Loss D.: 0.7461994886398315\n",
      "Epoch: 30 Loss G.: 0.619657039642334\n",
      "Epoch: 40 Loss D.: 0.6559100151062012\n",
      "Epoch: 40 Loss G.: 0.7808137536048889\n",
      "Epoch: 50 Loss D.: 0.7256516814231873\n",
      "Epoch: 50 Loss G.: 0.7757578492164612\n",
      "Epoch: 60 Loss D.: 0.7132587432861328\n",
      "Epoch: 60 Loss G.: 0.7338548302650452\n",
      "Epoch: 70 Loss D.: 0.7192200422286987\n",
      "Epoch: 70 Loss G.: 0.7581437826156616\n",
      "Epoch: 80 Loss D.: 0.7422587871551514\n",
      "Epoch: 80 Loss G.: 0.7047508955001831\n",
      "Epoch: 90 Loss D.: 0.7149511575698853\n",
      "Epoch: 90 Loss G.: 0.6846908926963806\n",
      "Epoch: 100 Loss D.: 0.6854996681213379\n",
      "Epoch: 100 Loss G.: 0.7076058983802795\n",
      "Epoch: 110 Loss D.: 0.6509079337120056\n",
      "Epoch: 110 Loss G.: 1.1014132499694824\n",
      "Epoch: 120 Loss D.: 0.6272260546684265\n",
      "Epoch: 120 Loss G.: 0.7617970108985901\n",
      "Epoch: 130 Loss D.: 0.7204164862632751\n",
      "Epoch: 130 Loss G.: 0.751964271068573\n",
      "Epoch: 140 Loss D.: 0.8632569313049316\n",
      "Epoch: 140 Loss G.: 0.7405436038970947\n",
      "Epoch: 150 Loss D.: 0.6558259725570679\n",
      "Epoch: 150 Loss G.: 0.755316436290741\n",
      "Epoch: 160 Loss D.: 0.6684480309486389\n",
      "Epoch: 160 Loss G.: 0.7306691408157349\n",
      "Epoch: 170 Loss D.: 0.6240192651748657\n",
      "Epoch: 170 Loss G.: 0.770003616809845\n",
      "Epoch: 180 Loss D.: 0.7100229263305664\n",
      "Epoch: 180 Loss G.: 0.6803345084190369\n",
      "Epoch: 190 Loss D.: 0.7056454420089722\n",
      "Epoch: 190 Loss G.: 0.7033559679985046\n",
      "Epoch: 200 Loss D.: 0.6914432644844055\n",
      "Epoch: 200 Loss G.: 0.7181036472320557\n",
      "Epoch: 210 Loss D.: 0.6754763722419739\n",
      "Epoch: 210 Loss G.: 0.6889107823371887\n",
      "Epoch: 220 Loss D.: 0.5704339742660522\n",
      "Epoch: 220 Loss G.: 1.0239648818969727\n",
      "Epoch: 230 Loss D.: 0.7363980412483215\n",
      "Epoch: 230 Loss G.: 0.6771866083145142\n",
      "Epoch: 240 Loss D.: 0.7017788290977478\n",
      "Epoch: 240 Loss G.: 0.7034561634063721\n",
      "Epoch: 250 Loss D.: 0.6747356653213501\n",
      "Epoch: 250 Loss G.: 0.7142755389213562\n",
      "Epoch: 260 Loss D.: 0.69902104139328\n",
      "Epoch: 260 Loss G.: 0.7599032521247864\n",
      "Epoch: 270 Loss D.: 0.6175617575645447\n",
      "Epoch: 270 Loss G.: 0.9174524545669556\n",
      "Epoch: 280 Loss D.: 0.6539693474769592\n",
      "Epoch: 280 Loss G.: 0.9117609262466431\n",
      "Epoch: 290 Loss D.: 0.5989524126052856\n",
      "Epoch: 290 Loss G.: 0.8526822328567505\n"
     ]
    }
   ],
   "source": [
    "discriminator = Discriminator()\n",
    "generator = Generator()\n",
    "optimizer_discriminator = torch.optim.Adam(discriminator.parameters(), lr=lr)\n",
    "optimizer_generator = torch.optim.Adam(generator.parameters(), lr=lr)\n",
    "\n",
    "for epoch in range(num_epochs):\n",
    "\n",
    "    for n, (real_samples, _) in enumerate(train_loader):\n",
    "\n",
    "        # Data for training the discriminator\n",
    "        real_samples_labels = torch.ones((batch_size, 1))\n",
    "        latent_space_samples = torch.randn((batch_size, 2))\n",
    "        generated_samples = generator(latent_space_samples)\n",
    "        generated_samples_labels = torch.zeros((batch_size, 1))\n",
    "        all_samples = torch.cat((real_samples, generated_samples))\n",
    "        all_samples_labels = torch.cat((real_samples_labels, generated_samples_labels))\n",
    "\n",
    "        # Training the discriminator\n",
    "        discriminator.zero_grad()\n",
    "        output_discriminator = discriminator(all_samples)\n",
    "        loss_discriminator = loss_function(output_discriminator, all_samples_labels)\n",
    "        loss_discriminator.backward()\n",
    "        optimizer_discriminator.step()\n",
    "\n",
    "        # Data for training the generator\n",
    "        latent_space_samples = torch.randn((batch_size, 2))\n",
    "\n",
    "        # Training the generator\n",
    "        generator.zero_grad()\n",
    "        generated_samples = generator(latent_space_samples)\n",
    "        output_discriminator_generated = discriminator(generated_samples)\n",
    "        loss_generator = loss_function(output_discriminator_generated, real_samples_labels)\n",
    "        loss_generator.backward()\n",
    "        optimizer_generator.step()\n",
    "\n",
    "        # Show loss\n",
    "        if epoch % 10 == 0 and n == batch_size - 1:\n",
    "            print(f\"Epoch: {epoch} Loss D.: {loss_discriminator}\")\n",
    "            print(f\"Epoch: {epoch} Loss G.: {loss_generator}\")"
   ],
   "metadata": {
    "collapsed": false
   }
  },
  {
   "cell_type": "code",
   "execution_count": 8,
   "outputs": [],
   "source": [
    "latent_space_samples = torch.randn(100, 2)\n",
    "generated_samples = generator(latent_space_samples)"
   ],
   "metadata": {
    "collapsed": false
   }
  },
  {
   "cell_type": "code",
   "execution_count": 9,
   "outputs": [
    {
     "data": {
      "text/plain": "[<matplotlib.lines.Line2D at 0x7f78d772c0a0>]"
     },
     "execution_count": 9,
     "metadata": {},
     "output_type": "execute_result"
    },
    {
     "data": {
      "text/plain": "<Figure size 640x480 with 1 Axes>",
      "image/png": "[encoded data removed]"
     },
     "metadata": {},
     "output_type": "display_data"
    }
   ],
   "source": [
    "generated_samples = generated_samples.detach()\n",
    "plt.plot(generated_samples[:, 0], generated_samples[:, 1], \".\")"
   ],
   "metadata": {
    "collapsed": false
   }
  },
  {
   "cell_type": "code",
   "execution_count": null,
   "outputs": [],
   "source": [],
   "metadata": {
    "collapsed": false
   }
  }
 ],
 "metadata": {
  "kernelspec": {
   "display_name": "Python 3",
   "language": "python",
   "name": "python3"
  },
  "language_info": {
   "codemirror_mode": {
    "name": "ipython",
    "version": 2
   },
   "file_extension": ".py",
   "mimetype": "text/x-python",
   "name": "python",
   "nbconvert_exporter": "python",
   "pygments_lexer": "ipython2",
   "version": "2.7.6"
  }
 },
 "nbformat": 4,
 "nbformat_minor": 0
}
